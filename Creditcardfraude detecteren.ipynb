{
 "cells": [
  {
   "cell_type": "markdown",
   "metadata": {},
   "source": [
    "# Creditcardfraude detecteren\n",
    "\n",
    "## Introductie\n",
    "Creditcard fraude wordt door criminele organisaties op grote schaal toegepast met grote financiële schade tot gevolg. In Groot-Britannië was de schade door creditcard fraude in 2007 geschat op 600 miljoen euro per jaar. \n",
    "\n",
    "Contant geld wordt minder gebruikt en we stappen massaal over naar ‘plastic’ geld, de Nederlanders voorop. Het aantal te monitoren betaaltransacties loopt hierdoor ook op. Daarom zijn systemen die deze transacties monitoren essentieel. Gelukkig worden steeds slimmer en beter, maar een waterdichte oplossing voor het klassieke creditcard fraude probleem is er nog niet. Op basis van een dataset van ongeveer 285.000 transacties hebben we een algoritme gebouwd dat --,-% van alle frauduleuze transacties eruit haalt met een precisie van --,-%. Wat dat exact betekent, lees je hier beneden.\n",
    "\n",
    "## De case study\n",
    "Zoals aangegeven gebruiken we voor deze case study een dataset met bijna 285.000 transacties. Hoewel het een aardige hoeveelheid data is om een analyse op uit te voeren, ligt de moeilijkheid in de onbalans van de dataset. Onbalans betekent dat er tussen de 285.000 transacties slechts 492 frauduleuze transacties zitten. Dit komt neer op slechts 0.17%. \n",
    "\n",
    "Waarom leidt dit tot moeilijkheden? Omdat een algoritme standaard wordt beoordeeld op hoe vaak het input goed classificeert. Dat werkt in dit geval helaas niet. Wanneer het algoritme namelijk elke transactie als niet-frauduleus classificeert, behaalt het een nauwkeurigheid van 99,83% (100% - 0,17%)! Dit klinkt geweldig, maar je hebt geen enkele frauduleuze transactie herkent. In deze case hebben we daarom een aantal technieken gecombineerd om tot het optimale resultaat te komen.\n",
    "\n",
    "Deze case study is opgebouwd in secties en volgt - waar mogelijk - ons 7-stappenplan:\n",
    "1. Plan van aanpak \n",
    "2. Data analyse\n",
    "3. Data cleaning / processing\n",
    "4. Prototype model\n",
    "5. Optimaal model\n",
    "\n",
    "Het verwerken van de data en het bouwen van het model gebeurt volledig in Python."
   ]
  },
  {
   "cell_type": "markdown",
   "metadata": {},
   "source": [
    "## Plan van aanpak\n",
    "\n",
    "Hoewel het bouwen van een goed algoritme een proces van trial en error is, is het goed om vooraf vast te stellen wat we op willen lossen en hoe we dit aan gaan pakken.\n",
    "\n",
    "We willen in deze cause frauduleuze transacties herkennen door middel van een algoritme. De business case hierachter is niet bekend, maar kan zijn dat het wellicht te duur is om dit door mensen te laten doen of dat men de inschatting maakt dat een algoritme consistent betere resultaten kan behalen.\n",
    "\n",
    "Om een algoritme goed te kunnen laten functioneren, moeten we om weten te gaan met de onbalans in de data. Hiervoor gebruiken we de volgende twee technieken:\n",
    "1. Undersampling\n",
    "2. Oversampling\n",
    "\n",
    "Om de patronen in de data te herkennen en daarmee dus ook de frauduleuze transacties, bouwen we een aantal neurale netwerken. We experimenteren met verschillende lagen, vormen en zelfs met meerdere netwerken die functioneren als één groot netwerk.\n",
    "\n",
    "De maatstaf waarmee we de prestatie van ons neuraal netwerk meten is de zogenaamde Area Under the Curve (AUC). Deze maatstaf is uitermate geschikt voor algoritmes voor binaire classificaties, gebouwd op ongebalanceerde datasets. In de sectie *Prototype model* gaan we hier dieper op in.\n",
    "\n",
    "Maar laten we beginnen met het analyseren van de data om voor onszelf en de stakeholders inzichtelijk te maken waar we nu eigenlijk mee gaan werken."
   ]
  },
  {
   "cell_type": "markdown",
   "metadata": {},
   "source": [
    "## Data analyse\n",
    "\n",
    "De dataset voor deze case study is een __[openbare dataset](https://www.kaggle.com/mlg-ulb/creditcardfraud)__, bestaande uit 284.807 creditcardtransacties. Hiervan zijn 492 transacties frauduleus. De data is verzameld over een periode van twee dagen. Om privacy redenen is deze set het resultaat van een Principal Component Analysis (PCA) van de originele dataset. Kort gezegd betekent dat dat een groot aantal variabelen wordt gecombineerd tot een kleiner aantal variabelen, maar met minimaal informatieverlies. De variabelen die uit een PCA voort komen, zijn numerieke waardes die niet per se meer iets betekenen voor het menselijke oog. Zo bestaat deze dataset uit 31 variabelen: \n",
    "* 28 abstracte PCA variabelen; \n",
    "* Tijdstip (gemeten in seconden);\n",
    "* Hoeveelheid van de transactie;\n",
    "* Label dat aangeeft of de transactie frauduleus is.\n",
    "\n",
    "Ben je geïnteresseerd in hoe PCA werkt, dan is __[dit filmpje van 5 minuten](https://www.youtube.com/watch?v=HMOI_lkzW08)__ alles wat je nodig hebt."
   ]
  },
  {
   "cell_type": "markdown",
   "metadata": {},
   "source": [
    "Voor het analyseren van de data maken we gebruik van een aantal bekende Python libraries, namelijk Pandas en NumPy. Om onze resultaten te visualiseren gebruiken we Matplotlib en de Seaborn libraries."
   ]
  },
  {
   "cell_type": "code",
   "execution_count": 4,
   "metadata": {},
   "outputs": [],
   "source": [
    "import pandas as pd\n",
    "import numpy as np\n",
    "import matplotlib.pyplot as plt\n",
    "import seaborn as sns\n",
    "\n",
    "%matplotlib inline"
   ]
  },
  {
   "cell_type": "code",
   "execution_count": 5,
   "metadata": {},
   "outputs": [],
   "source": [
    "import os\n",
    "\n",
    "path = \"/Users/Laurens-Jan/Desktop/ML/\"\n",
    "file_name = \"creditcard.csv\"\n",
    "file = os.path.join(path, file_name)\n",
    "\n",
    "df = pd.read_csv(file)"
   ]
  },
  {
   "cell_type": "markdown",
   "metadata": {},
   "source": [
    "De eerste tien regels van het DataFrame geven goed weer hoe de PCA variabelen - weergegeven door de namen V1 tot en met V28 - behoorijk nietszeggend zijn voor het menselijke oog. Daarnaast zijn ook de variabelen Time, Amount en Class te vinden."
   ]
  },
  {
   "cell_type": "code",
   "execution_count": 6,
   "metadata": {},
   "outputs": [
    {
     "data": {
      "text/html": [
       "<div>\n",
       "<style scoped>\n",
       "    .dataframe tbody tr th:only-of-type {\n",
       "        vertical-align: middle;\n",
       "    }\n",
       "\n",
       "    .dataframe tbody tr th {\n",
       "        vertical-align: top;\n",
       "    }\n",
       "\n",
       "    .dataframe thead th {\n",
       "        text-align: right;\n",
       "    }\n",
       "</style>\n",
       "<table border=\"1\" class=\"dataframe\">\n",
       "  <thead>\n",
       "    <tr style=\"text-align: right;\">\n",
       "      <th></th>\n",
       "      <th>Time</th>\n",
       "      <th>V1</th>\n",
       "      <th>V2</th>\n",
       "      <th>V3</th>\n",
       "      <th>V4</th>\n",
       "      <th>V5</th>\n",
       "      <th>V6</th>\n",
       "      <th>V7</th>\n",
       "      <th>V8</th>\n",
       "      <th>V9</th>\n",
       "      <th>...</th>\n",
       "      <th>V21</th>\n",
       "      <th>V22</th>\n",
       "      <th>V23</th>\n",
       "      <th>V24</th>\n",
       "      <th>V25</th>\n",
       "      <th>V26</th>\n",
       "      <th>V27</th>\n",
       "      <th>V28</th>\n",
       "      <th>Amount</th>\n",
       "      <th>Class</th>\n",
       "    </tr>\n",
       "  </thead>\n",
       "  <tbody>\n",
       "    <tr>\n",
       "      <td>0</td>\n",
       "      <td>0.0</td>\n",
       "      <td>-1.359807</td>\n",
       "      <td>-0.072781</td>\n",
       "      <td>2.536347</td>\n",
       "      <td>1.378155</td>\n",
       "      <td>-0.338321</td>\n",
       "      <td>0.462388</td>\n",
       "      <td>0.239599</td>\n",
       "      <td>0.098698</td>\n",
       "      <td>0.363787</td>\n",
       "      <td>...</td>\n",
       "      <td>-0.018307</td>\n",
       "      <td>0.277838</td>\n",
       "      <td>-0.110474</td>\n",
       "      <td>0.066928</td>\n",
       "      <td>0.128539</td>\n",
       "      <td>-0.189115</td>\n",
       "      <td>0.133558</td>\n",
       "      <td>-0.021053</td>\n",
       "      <td>149.62</td>\n",
       "      <td>0</td>\n",
       "    </tr>\n",
       "    <tr>\n",
       "      <td>1</td>\n",
       "      <td>0.0</td>\n",
       "      <td>1.191857</td>\n",
       "      <td>0.266151</td>\n",
       "      <td>0.166480</td>\n",
       "      <td>0.448154</td>\n",
       "      <td>0.060018</td>\n",
       "      <td>-0.082361</td>\n",
       "      <td>-0.078803</td>\n",
       "      <td>0.085102</td>\n",
       "      <td>-0.255425</td>\n",
       "      <td>...</td>\n",
       "      <td>-0.225775</td>\n",
       "      <td>-0.638672</td>\n",
       "      <td>0.101288</td>\n",
       "      <td>-0.339846</td>\n",
       "      <td>0.167170</td>\n",
       "      <td>0.125895</td>\n",
       "      <td>-0.008983</td>\n",
       "      <td>0.014724</td>\n",
       "      <td>2.69</td>\n",
       "      <td>0</td>\n",
       "    </tr>\n",
       "    <tr>\n",
       "      <td>2</td>\n",
       "      <td>1.0</td>\n",
       "      <td>-1.358354</td>\n",
       "      <td>-1.340163</td>\n",
       "      <td>1.773209</td>\n",
       "      <td>0.379780</td>\n",
       "      <td>-0.503198</td>\n",
       "      <td>1.800499</td>\n",
       "      <td>0.791461</td>\n",
       "      <td>0.247676</td>\n",
       "      <td>-1.514654</td>\n",
       "      <td>...</td>\n",
       "      <td>0.247998</td>\n",
       "      <td>0.771679</td>\n",
       "      <td>0.909412</td>\n",
       "      <td>-0.689281</td>\n",
       "      <td>-0.327642</td>\n",
       "      <td>-0.139097</td>\n",
       "      <td>-0.055353</td>\n",
       "      <td>-0.059752</td>\n",
       "      <td>378.66</td>\n",
       "      <td>0</td>\n",
       "    </tr>\n",
       "    <tr>\n",
       "      <td>3</td>\n",
       "      <td>1.0</td>\n",
       "      <td>-0.966272</td>\n",
       "      <td>-0.185226</td>\n",
       "      <td>1.792993</td>\n",
       "      <td>-0.863291</td>\n",
       "      <td>-0.010309</td>\n",
       "      <td>1.247203</td>\n",
       "      <td>0.237609</td>\n",
       "      <td>0.377436</td>\n",
       "      <td>-1.387024</td>\n",
       "      <td>...</td>\n",
       "      <td>-0.108300</td>\n",
       "      <td>0.005274</td>\n",
       "      <td>-0.190321</td>\n",
       "      <td>-1.175575</td>\n",
       "      <td>0.647376</td>\n",
       "      <td>-0.221929</td>\n",
       "      <td>0.062723</td>\n",
       "      <td>0.061458</td>\n",
       "      <td>123.50</td>\n",
       "      <td>0</td>\n",
       "    </tr>\n",
       "    <tr>\n",
       "      <td>4</td>\n",
       "      <td>2.0</td>\n",
       "      <td>-1.158233</td>\n",
       "      <td>0.877737</td>\n",
       "      <td>1.548718</td>\n",
       "      <td>0.403034</td>\n",
       "      <td>-0.407193</td>\n",
       "      <td>0.095921</td>\n",
       "      <td>0.592941</td>\n",
       "      <td>-0.270533</td>\n",
       "      <td>0.817739</td>\n",
       "      <td>...</td>\n",
       "      <td>-0.009431</td>\n",
       "      <td>0.798278</td>\n",
       "      <td>-0.137458</td>\n",
       "      <td>0.141267</td>\n",
       "      <td>-0.206010</td>\n",
       "      <td>0.502292</td>\n",
       "      <td>0.219422</td>\n",
       "      <td>0.215153</td>\n",
       "      <td>69.99</td>\n",
       "      <td>0</td>\n",
       "    </tr>\n",
       "    <tr>\n",
       "      <td>5</td>\n",
       "      <td>2.0</td>\n",
       "      <td>-0.425966</td>\n",
       "      <td>0.960523</td>\n",
       "      <td>1.141109</td>\n",
       "      <td>-0.168252</td>\n",
       "      <td>0.420987</td>\n",
       "      <td>-0.029728</td>\n",
       "      <td>0.476201</td>\n",
       "      <td>0.260314</td>\n",
       "      <td>-0.568671</td>\n",
       "      <td>...</td>\n",
       "      <td>-0.208254</td>\n",
       "      <td>-0.559825</td>\n",
       "      <td>-0.026398</td>\n",
       "      <td>-0.371427</td>\n",
       "      <td>-0.232794</td>\n",
       "      <td>0.105915</td>\n",
       "      <td>0.253844</td>\n",
       "      <td>0.081080</td>\n",
       "      <td>3.67</td>\n",
       "      <td>0</td>\n",
       "    </tr>\n",
       "    <tr>\n",
       "      <td>6</td>\n",
       "      <td>4.0</td>\n",
       "      <td>1.229658</td>\n",
       "      <td>0.141004</td>\n",
       "      <td>0.045371</td>\n",
       "      <td>1.202613</td>\n",
       "      <td>0.191881</td>\n",
       "      <td>0.272708</td>\n",
       "      <td>-0.005159</td>\n",
       "      <td>0.081213</td>\n",
       "      <td>0.464960</td>\n",
       "      <td>...</td>\n",
       "      <td>-0.167716</td>\n",
       "      <td>-0.270710</td>\n",
       "      <td>-0.154104</td>\n",
       "      <td>-0.780055</td>\n",
       "      <td>0.750137</td>\n",
       "      <td>-0.257237</td>\n",
       "      <td>0.034507</td>\n",
       "      <td>0.005168</td>\n",
       "      <td>4.99</td>\n",
       "      <td>0</td>\n",
       "    </tr>\n",
       "    <tr>\n",
       "      <td>7</td>\n",
       "      <td>7.0</td>\n",
       "      <td>-0.644269</td>\n",
       "      <td>1.417964</td>\n",
       "      <td>1.074380</td>\n",
       "      <td>-0.492199</td>\n",
       "      <td>0.948934</td>\n",
       "      <td>0.428118</td>\n",
       "      <td>1.120631</td>\n",
       "      <td>-3.807864</td>\n",
       "      <td>0.615375</td>\n",
       "      <td>...</td>\n",
       "      <td>1.943465</td>\n",
       "      <td>-1.015455</td>\n",
       "      <td>0.057504</td>\n",
       "      <td>-0.649709</td>\n",
       "      <td>-0.415267</td>\n",
       "      <td>-0.051634</td>\n",
       "      <td>-1.206921</td>\n",
       "      <td>-1.085339</td>\n",
       "      <td>40.80</td>\n",
       "      <td>0</td>\n",
       "    </tr>\n",
       "    <tr>\n",
       "      <td>8</td>\n",
       "      <td>7.0</td>\n",
       "      <td>-0.894286</td>\n",
       "      <td>0.286157</td>\n",
       "      <td>-0.113192</td>\n",
       "      <td>-0.271526</td>\n",
       "      <td>2.669599</td>\n",
       "      <td>3.721818</td>\n",
       "      <td>0.370145</td>\n",
       "      <td>0.851084</td>\n",
       "      <td>-0.392048</td>\n",
       "      <td>...</td>\n",
       "      <td>-0.073425</td>\n",
       "      <td>-0.268092</td>\n",
       "      <td>-0.204233</td>\n",
       "      <td>1.011592</td>\n",
       "      <td>0.373205</td>\n",
       "      <td>-0.384157</td>\n",
       "      <td>0.011747</td>\n",
       "      <td>0.142404</td>\n",
       "      <td>93.20</td>\n",
       "      <td>0</td>\n",
       "    </tr>\n",
       "    <tr>\n",
       "      <td>9</td>\n",
       "      <td>9.0</td>\n",
       "      <td>-0.338262</td>\n",
       "      <td>1.119593</td>\n",
       "      <td>1.044367</td>\n",
       "      <td>-0.222187</td>\n",
       "      <td>0.499361</td>\n",
       "      <td>-0.246761</td>\n",
       "      <td>0.651583</td>\n",
       "      <td>0.069539</td>\n",
       "      <td>-0.736727</td>\n",
       "      <td>...</td>\n",
       "      <td>-0.246914</td>\n",
       "      <td>-0.633753</td>\n",
       "      <td>-0.120794</td>\n",
       "      <td>-0.385050</td>\n",
       "      <td>-0.069733</td>\n",
       "      <td>0.094199</td>\n",
       "      <td>0.246219</td>\n",
       "      <td>0.083076</td>\n",
       "      <td>3.68</td>\n",
       "      <td>0</td>\n",
       "    </tr>\n",
       "  </tbody>\n",
       "</table>\n",
       "<p>10 rows × 31 columns</p>\n",
       "</div>"
      ],
      "text/plain": [
       "   Time        V1        V2        V3        V4        V5        V6        V7  \\\n",
       "0   0.0 -1.359807 -0.072781  2.536347  1.378155 -0.338321  0.462388  0.239599   \n",
       "1   0.0  1.191857  0.266151  0.166480  0.448154  0.060018 -0.082361 -0.078803   \n",
       "2   1.0 -1.358354 -1.340163  1.773209  0.379780 -0.503198  1.800499  0.791461   \n",
       "3   1.0 -0.966272 -0.185226  1.792993 -0.863291 -0.010309  1.247203  0.237609   \n",
       "4   2.0 -1.158233  0.877737  1.548718  0.403034 -0.407193  0.095921  0.592941   \n",
       "5   2.0 -0.425966  0.960523  1.141109 -0.168252  0.420987 -0.029728  0.476201   \n",
       "6   4.0  1.229658  0.141004  0.045371  1.202613  0.191881  0.272708 -0.005159   \n",
       "7   7.0 -0.644269  1.417964  1.074380 -0.492199  0.948934  0.428118  1.120631   \n",
       "8   7.0 -0.894286  0.286157 -0.113192 -0.271526  2.669599  3.721818  0.370145   \n",
       "9   9.0 -0.338262  1.119593  1.044367 -0.222187  0.499361 -0.246761  0.651583   \n",
       "\n",
       "         V8        V9  ...       V21       V22       V23       V24       V25  \\\n",
       "0  0.098698  0.363787  ... -0.018307  0.277838 -0.110474  0.066928  0.128539   \n",
       "1  0.085102 -0.255425  ... -0.225775 -0.638672  0.101288 -0.339846  0.167170   \n",
       "2  0.247676 -1.514654  ...  0.247998  0.771679  0.909412 -0.689281 -0.327642   \n",
       "3  0.377436 -1.387024  ... -0.108300  0.005274 -0.190321 -1.175575  0.647376   \n",
       "4 -0.270533  0.817739  ... -0.009431  0.798278 -0.137458  0.141267 -0.206010   \n",
       "5  0.260314 -0.568671  ... -0.208254 -0.559825 -0.026398 -0.371427 -0.232794   \n",
       "6  0.081213  0.464960  ... -0.167716 -0.270710 -0.154104 -0.780055  0.750137   \n",
       "7 -3.807864  0.615375  ...  1.943465 -1.015455  0.057504 -0.649709 -0.415267   \n",
       "8  0.851084 -0.392048  ... -0.073425 -0.268092 -0.204233  1.011592  0.373205   \n",
       "9  0.069539 -0.736727  ... -0.246914 -0.633753 -0.120794 -0.385050 -0.069733   \n",
       "\n",
       "        V26       V27       V28  Amount  Class  \n",
       "0 -0.189115  0.133558 -0.021053  149.62      0  \n",
       "1  0.125895 -0.008983  0.014724    2.69      0  \n",
       "2 -0.139097 -0.055353 -0.059752  378.66      0  \n",
       "3 -0.221929  0.062723  0.061458  123.50      0  \n",
       "4  0.502292  0.219422  0.215153   69.99      0  \n",
       "5  0.105915  0.253844  0.081080    3.67      0  \n",
       "6 -0.257237  0.034507  0.005168    4.99      0  \n",
       "7 -0.051634 -1.206921 -1.085339   40.80      0  \n",
       "8 -0.384157  0.011747  0.142404   93.20      0  \n",
       "9  0.094199  0.246219  0.083076    3.68      0  \n",
       "\n",
       "[10 rows x 31 columns]"
      ]
     },
     "execution_count": 6,
     "metadata": {},
     "output_type": "execute_result"
    }
   ],
   "source": [
    "df.head(10)"
   ]
  },
  {
   "cell_type": "markdown",
   "metadata": {},
   "source": [
    "Om een goed eerste beeld te schetsen, stellen we samenvattende statistieken van de dataset op. Hierin geven we een overzicht van het aantal datapunten, het gemiddelde, de standaarddeviatie en een aantal waardes voor verschillende percentielen per variabele.\n",
    "\n",
    "Aan de hand hiervan kunnen we onze volgende stap bepalen."
   ]
  },
  {
   "cell_type": "code",
   "execution_count": 8,
   "metadata": {},
   "outputs": [
    {
     "data": {
      "text/html": [
       "<div>\n",
       "<style scoped>\n",
       "    .dataframe tbody tr th:only-of-type {\n",
       "        vertical-align: middle;\n",
       "    }\n",
       "\n",
       "    .dataframe tbody tr th {\n",
       "        vertical-align: top;\n",
       "    }\n",
       "\n",
       "    .dataframe thead th {\n",
       "        text-align: right;\n",
       "    }\n",
       "</style>\n",
       "<table border=\"1\" class=\"dataframe\">\n",
       "  <thead>\n",
       "    <tr style=\"text-align: right;\">\n",
       "      <th></th>\n",
       "      <th>Time</th>\n",
       "      <th>V1</th>\n",
       "      <th>V2</th>\n",
       "      <th>V3</th>\n",
       "      <th>V4</th>\n",
       "      <th>V5</th>\n",
       "      <th>V6</th>\n",
       "      <th>V7</th>\n",
       "      <th>V8</th>\n",
       "      <th>V9</th>\n",
       "      <th>...</th>\n",
       "      <th>V21</th>\n",
       "      <th>V22</th>\n",
       "      <th>V23</th>\n",
       "      <th>V24</th>\n",
       "      <th>V25</th>\n",
       "      <th>V26</th>\n",
       "      <th>V27</th>\n",
       "      <th>V28</th>\n",
       "      <th>Amount</th>\n",
       "      <th>Class</th>\n",
       "    </tr>\n",
       "  </thead>\n",
       "  <tbody>\n",
       "    <tr>\n",
       "      <td>count</td>\n",
       "      <td>284807.00000</td>\n",
       "      <td>284807.00000</td>\n",
       "      <td>284807.00000</td>\n",
       "      <td>284807.00000</td>\n",
       "      <td>284807.00000</td>\n",
       "      <td>284807.00000</td>\n",
       "      <td>284807.00000</td>\n",
       "      <td>284807.00000</td>\n",
       "      <td>284807.00000</td>\n",
       "      <td>284807.00000</td>\n",
       "      <td>...</td>\n",
       "      <td>284807.00000</td>\n",
       "      <td>284807.00000</td>\n",
       "      <td>284807.00000</td>\n",
       "      <td>284807.00000</td>\n",
       "      <td>284807.00000</td>\n",
       "      <td>284807.00000</td>\n",
       "      <td>284807.00000</td>\n",
       "      <td>284807.00000</td>\n",
       "      <td>284807.00000</td>\n",
       "      <td>284807.00000</td>\n",
       "    </tr>\n",
       "    <tr>\n",
       "      <td>mean</td>\n",
       "      <td>94813.85958</td>\n",
       "      <td>0.00000</td>\n",
       "      <td>0.00000</td>\n",
       "      <td>-0.00000</td>\n",
       "      <td>0.00000</td>\n",
       "      <td>0.00000</td>\n",
       "      <td>0.00000</td>\n",
       "      <td>-0.00000</td>\n",
       "      <td>0.00000</td>\n",
       "      <td>-0.00000</td>\n",
       "      <td>...</td>\n",
       "      <td>0.00000</td>\n",
       "      <td>-0.00000</td>\n",
       "      <td>0.00000</td>\n",
       "      <td>0.00000</td>\n",
       "      <td>0.00000</td>\n",
       "      <td>0.00000</td>\n",
       "      <td>-0.00000</td>\n",
       "      <td>-0.00000</td>\n",
       "      <td>88.34962</td>\n",
       "      <td>0.00173</td>\n",
       "    </tr>\n",
       "    <tr>\n",
       "      <td>std</td>\n",
       "      <td>47488.14595</td>\n",
       "      <td>1.95870</td>\n",
       "      <td>1.65131</td>\n",
       "      <td>1.51626</td>\n",
       "      <td>1.41587</td>\n",
       "      <td>1.38025</td>\n",
       "      <td>1.33227</td>\n",
       "      <td>1.23709</td>\n",
       "      <td>1.19435</td>\n",
       "      <td>1.09863</td>\n",
       "      <td>...</td>\n",
       "      <td>0.73452</td>\n",
       "      <td>0.72570</td>\n",
       "      <td>0.62446</td>\n",
       "      <td>0.60565</td>\n",
       "      <td>0.52128</td>\n",
       "      <td>0.48223</td>\n",
       "      <td>0.40363</td>\n",
       "      <td>0.33008</td>\n",
       "      <td>250.12011</td>\n",
       "      <td>0.04153</td>\n",
       "    </tr>\n",
       "    <tr>\n",
       "      <td>min</td>\n",
       "      <td>0.00000</td>\n",
       "      <td>-56.40751</td>\n",
       "      <td>-72.71573</td>\n",
       "      <td>-48.32559</td>\n",
       "      <td>-5.68317</td>\n",
       "      <td>-113.74331</td>\n",
       "      <td>-26.16051</td>\n",
       "      <td>-43.55724</td>\n",
       "      <td>-73.21672</td>\n",
       "      <td>-13.43407</td>\n",
       "      <td>...</td>\n",
       "      <td>-34.83038</td>\n",
       "      <td>-10.93314</td>\n",
       "      <td>-44.80774</td>\n",
       "      <td>-2.83663</td>\n",
       "      <td>-10.29540</td>\n",
       "      <td>-2.60455</td>\n",
       "      <td>-22.56568</td>\n",
       "      <td>-15.43008</td>\n",
       "      <td>0.00000</td>\n",
       "      <td>0.00000</td>\n",
       "    </tr>\n",
       "    <tr>\n",
       "      <td>1%</td>\n",
       "      <td>2422.00000</td>\n",
       "      <td>-6.56320</td>\n",
       "      <td>-4.96030</td>\n",
       "      <td>-3.97838</td>\n",
       "      <td>-3.12299</td>\n",
       "      <td>-3.06040</td>\n",
       "      <td>-2.12402</td>\n",
       "      <td>-3.01285</td>\n",
       "      <td>-4.03390</td>\n",
       "      <td>-2.45529</td>\n",
       "      <td>...</td>\n",
       "      <td>-1.46968</td>\n",
       "      <td>-1.65463</td>\n",
       "      <td>-1.19342</td>\n",
       "      <td>-1.65731</td>\n",
       "      <td>-1.42086</td>\n",
       "      <td>-1.00938</td>\n",
       "      <td>-1.24775</td>\n",
       "      <td>-0.87627</td>\n",
       "      <td>0.12000</td>\n",
       "      <td>0.00000</td>\n",
       "    </tr>\n",
       "    <tr>\n",
       "      <td>5%</td>\n",
       "      <td>25297.60000</td>\n",
       "      <td>-2.89915</td>\n",
       "      <td>-1.97198</td>\n",
       "      <td>-2.38974</td>\n",
       "      <td>-2.19568</td>\n",
       "      <td>-1.70202</td>\n",
       "      <td>-1.40676</td>\n",
       "      <td>-1.43442</td>\n",
       "      <td>-0.84215</td>\n",
       "      <td>-1.75843</td>\n",
       "      <td>...</td>\n",
       "      <td>-0.50467</td>\n",
       "      <td>-1.08189</td>\n",
       "      <td>-0.47225</td>\n",
       "      <td>-1.14366</td>\n",
       "      <td>-0.82503</td>\n",
       "      <td>-0.69735</td>\n",
       "      <td>-0.41525</td>\n",
       "      <td>-0.31784</td>\n",
       "      <td>0.92000</td>\n",
       "      <td>0.00000</td>\n",
       "    </tr>\n",
       "    <tr>\n",
       "      <td>25%</td>\n",
       "      <td>54201.50000</td>\n",
       "      <td>-0.92037</td>\n",
       "      <td>-0.59855</td>\n",
       "      <td>-0.89036</td>\n",
       "      <td>-0.84864</td>\n",
       "      <td>-0.69160</td>\n",
       "      <td>-0.76830</td>\n",
       "      <td>-0.55408</td>\n",
       "      <td>-0.20863</td>\n",
       "      <td>-0.64310</td>\n",
       "      <td>...</td>\n",
       "      <td>-0.22839</td>\n",
       "      <td>-0.54235</td>\n",
       "      <td>-0.16185</td>\n",
       "      <td>-0.35459</td>\n",
       "      <td>-0.31715</td>\n",
       "      <td>-0.32698</td>\n",
       "      <td>-0.07084</td>\n",
       "      <td>-0.05296</td>\n",
       "      <td>5.60000</td>\n",
       "      <td>0.00000</td>\n",
       "    </tr>\n",
       "    <tr>\n",
       "      <td>50%</td>\n",
       "      <td>84692.00000</td>\n",
       "      <td>0.01811</td>\n",
       "      <td>0.06549</td>\n",
       "      <td>0.17985</td>\n",
       "      <td>-0.01985</td>\n",
       "      <td>-0.05434</td>\n",
       "      <td>-0.27419</td>\n",
       "      <td>0.04010</td>\n",
       "      <td>0.02236</td>\n",
       "      <td>-0.05143</td>\n",
       "      <td>...</td>\n",
       "      <td>-0.02945</td>\n",
       "      <td>0.00678</td>\n",
       "      <td>-0.01119</td>\n",
       "      <td>0.04098</td>\n",
       "      <td>0.01659</td>\n",
       "      <td>-0.05214</td>\n",
       "      <td>0.00134</td>\n",
       "      <td>0.01124</td>\n",
       "      <td>22.00000</td>\n",
       "      <td>0.00000</td>\n",
       "    </tr>\n",
       "    <tr>\n",
       "      <td>75%</td>\n",
       "      <td>139320.50000</td>\n",
       "      <td>1.31564</td>\n",
       "      <td>0.80372</td>\n",
       "      <td>1.02720</td>\n",
       "      <td>0.74334</td>\n",
       "      <td>0.61193</td>\n",
       "      <td>0.39856</td>\n",
       "      <td>0.57044</td>\n",
       "      <td>0.32735</td>\n",
       "      <td>0.59714</td>\n",
       "      <td>...</td>\n",
       "      <td>0.18638</td>\n",
       "      <td>0.52855</td>\n",
       "      <td>0.14764</td>\n",
       "      <td>0.43953</td>\n",
       "      <td>0.35072</td>\n",
       "      <td>0.24095</td>\n",
       "      <td>0.09105</td>\n",
       "      <td>0.07828</td>\n",
       "      <td>77.16500</td>\n",
       "      <td>0.00000</td>\n",
       "    </tr>\n",
       "    <tr>\n",
       "      <td>95%</td>\n",
       "      <td>164143.40000</td>\n",
       "      <td>2.08122</td>\n",
       "      <td>1.80858</td>\n",
       "      <td>2.06264</td>\n",
       "      <td>2.56650</td>\n",
       "      <td>2.09896</td>\n",
       "      <td>3.16038</td>\n",
       "      <td>1.40763</td>\n",
       "      <td>1.04998</td>\n",
       "      <td>1.78078</td>\n",
       "      <td>...</td>\n",
       "      <td>0.53787</td>\n",
       "      <td>1.12899</td>\n",
       "      <td>0.48802</td>\n",
       "      <td>0.86636</td>\n",
       "      <td>0.76070</td>\n",
       "      <td>0.92092</td>\n",
       "      <td>0.38775</td>\n",
       "      <td>0.25609</td>\n",
       "      <td>365.00000</td>\n",
       "      <td>0.00000</td>\n",
       "    </tr>\n",
       "    <tr>\n",
       "      <td>99%</td>\n",
       "      <td>170560.94000</td>\n",
       "      <td>2.23713</td>\n",
       "      <td>3.80181</td>\n",
       "      <td>2.72843</td>\n",
       "      <td>4.24803</td>\n",
       "      <td>3.42490</td>\n",
       "      <td>4.20008</td>\n",
       "      <td>2.69620</td>\n",
       "      <td>2.07597</td>\n",
       "      <td>2.98677</td>\n",
       "      <td>...</td>\n",
       "      <td>1.93185</td>\n",
       "      <td>1.53015</td>\n",
       "      <td>1.50870</td>\n",
       "      <td>1.06375</td>\n",
       "      <td>1.20396</td>\n",
       "      <td>1.15870</td>\n",
       "      <td>0.93136</td>\n",
       "      <td>0.54113</td>\n",
       "      <td>1017.97000</td>\n",
       "      <td>0.00000</td>\n",
       "    </tr>\n",
       "    <tr>\n",
       "      <td>max</td>\n",
       "      <td>172792.00000</td>\n",
       "      <td>2.45493</td>\n",
       "      <td>22.05773</td>\n",
       "      <td>9.38256</td>\n",
       "      <td>16.87534</td>\n",
       "      <td>34.80167</td>\n",
       "      <td>73.30163</td>\n",
       "      <td>120.58949</td>\n",
       "      <td>20.00721</td>\n",
       "      <td>15.59499</td>\n",
       "      <td>...</td>\n",
       "      <td>27.20284</td>\n",
       "      <td>10.50309</td>\n",
       "      <td>22.52841</td>\n",
       "      <td>4.58455</td>\n",
       "      <td>7.51959</td>\n",
       "      <td>3.51735</td>\n",
       "      <td>31.61220</td>\n",
       "      <td>33.84781</td>\n",
       "      <td>25691.16000</td>\n",
       "      <td>1.00000</td>\n",
       "    </tr>\n",
       "  </tbody>\n",
       "</table>\n",
       "<p>12 rows × 31 columns</p>\n",
       "</div>"
      ],
      "text/plain": [
       "               Time            V1            V2            V3            V4  \\\n",
       "count  284807.00000  284807.00000  284807.00000  284807.00000  284807.00000   \n",
       "mean    94813.85958       0.00000       0.00000      -0.00000       0.00000   \n",
       "std     47488.14595       1.95870       1.65131       1.51626       1.41587   \n",
       "min         0.00000     -56.40751     -72.71573     -48.32559      -5.68317   \n",
       "1%       2422.00000      -6.56320      -4.96030      -3.97838      -3.12299   \n",
       "5%      25297.60000      -2.89915      -1.97198      -2.38974      -2.19568   \n",
       "25%     54201.50000      -0.92037      -0.59855      -0.89036      -0.84864   \n",
       "50%     84692.00000       0.01811       0.06549       0.17985      -0.01985   \n",
       "75%    139320.50000       1.31564       0.80372       1.02720       0.74334   \n",
       "95%    164143.40000       2.08122       1.80858       2.06264       2.56650   \n",
       "99%    170560.94000       2.23713       3.80181       2.72843       4.24803   \n",
       "max    172792.00000       2.45493      22.05773       9.38256      16.87534   \n",
       "\n",
       "                 V5            V6            V7            V8            V9  \\\n",
       "count  284807.00000  284807.00000  284807.00000  284807.00000  284807.00000   \n",
       "mean        0.00000       0.00000      -0.00000       0.00000      -0.00000   \n",
       "std         1.38025       1.33227       1.23709       1.19435       1.09863   \n",
       "min      -113.74331     -26.16051     -43.55724     -73.21672     -13.43407   \n",
       "1%         -3.06040      -2.12402      -3.01285      -4.03390      -2.45529   \n",
       "5%         -1.70202      -1.40676      -1.43442      -0.84215      -1.75843   \n",
       "25%        -0.69160      -0.76830      -0.55408      -0.20863      -0.64310   \n",
       "50%        -0.05434      -0.27419       0.04010       0.02236      -0.05143   \n",
       "75%         0.61193       0.39856       0.57044       0.32735       0.59714   \n",
       "95%         2.09896       3.16038       1.40763       1.04998       1.78078   \n",
       "99%         3.42490       4.20008       2.69620       2.07597       2.98677   \n",
       "max        34.80167      73.30163     120.58949      20.00721      15.59499   \n",
       "\n",
       "       ...           V21           V22           V23           V24  \\\n",
       "count  ...  284807.00000  284807.00000  284807.00000  284807.00000   \n",
       "mean   ...       0.00000      -0.00000       0.00000       0.00000   \n",
       "std    ...       0.73452       0.72570       0.62446       0.60565   \n",
       "min    ...     -34.83038     -10.93314     -44.80774      -2.83663   \n",
       "1%     ...      -1.46968      -1.65463      -1.19342      -1.65731   \n",
       "5%     ...      -0.50467      -1.08189      -0.47225      -1.14366   \n",
       "25%    ...      -0.22839      -0.54235      -0.16185      -0.35459   \n",
       "50%    ...      -0.02945       0.00678      -0.01119       0.04098   \n",
       "75%    ...       0.18638       0.52855       0.14764       0.43953   \n",
       "95%    ...       0.53787       1.12899       0.48802       0.86636   \n",
       "99%    ...       1.93185       1.53015       1.50870       1.06375   \n",
       "max    ...      27.20284      10.50309      22.52841       4.58455   \n",
       "\n",
       "                V25           V26           V27           V28        Amount  \\\n",
       "count  284807.00000  284807.00000  284807.00000  284807.00000  284807.00000   \n",
       "mean        0.00000       0.00000      -0.00000      -0.00000      88.34962   \n",
       "std         0.52128       0.48223       0.40363       0.33008     250.12011   \n",
       "min       -10.29540      -2.60455     -22.56568     -15.43008       0.00000   \n",
       "1%         -1.42086      -1.00938      -1.24775      -0.87627       0.12000   \n",
       "5%         -0.82503      -0.69735      -0.41525      -0.31784       0.92000   \n",
       "25%        -0.31715      -0.32698      -0.07084      -0.05296       5.60000   \n",
       "50%         0.01659      -0.05214       0.00134       0.01124      22.00000   \n",
       "75%         0.35072       0.24095       0.09105       0.07828      77.16500   \n",
       "95%         0.76070       0.92092       0.38775       0.25609     365.00000   \n",
       "99%         1.20396       1.15870       0.93136       0.54113    1017.97000   \n",
       "max         7.51959       3.51735      31.61220      33.84781   25691.16000   \n",
       "\n",
       "              Class  \n",
       "count  284807.00000  \n",
       "mean        0.00173  \n",
       "std         0.04153  \n",
       "min         0.00000  \n",
       "1%          0.00000  \n",
       "5%          0.00000  \n",
       "25%         0.00000  \n",
       "50%         0.00000  \n",
       "75%         0.00000  \n",
       "95%         0.00000  \n",
       "99%         0.00000  \n",
       "max         1.00000  \n",
       "\n",
       "[12 rows x 31 columns]"
      ]
     },
     "execution_count": 8,
     "metadata": {},
     "output_type": "execute_result"
    }
   ],
   "source": [
    "df.describe(percentiles=[.01, .05, .25, .5, .75, .95, .99]).round(5)"
   ]
  },
  {
   "cell_type": "markdown",
   "metadata": {},
   "source": [
    "Opvallend is dat de dataset geen enkele ontbrekende waardes heeft. \n",
    "\n",
    "Daarnaast heeft de PCA geresulteerd in 28 variabelen met een gemiddelde van 0,00 en een relatief lage standaarddeviatie. Dit is positief voor het trainen van neurale netwerken. De variabelen tijd en hoeveelheid, daarentegen, hebben wel sterk uiteenlopende waardes. Daarom schalen we in de volgende sectie tijd en hoeveelheid op zo'n manier dat ook deze variabelen gemiddelde 0,00 hebben met een standaard afwijking van 1,00. Dit proces wordt ook wel __[feature scaling](https://en.wikipedia.org/wiki/Feature_scaling)__ genoemd.\n",
    "\n",
    "Gezien tijd en hoeveelheid de enige variabelen zijn die nog herkenbaar zijn en die we in een later stadium moeten verwerken, is het goed om naar de verdeling hiervan te kijken."
   ]
  },
  {
   "cell_type": "markdown",
   "metadata": {},
   "source": [
    "### Tijdstip van de transacties\n",
    "\n",
    "De verdeling van het aantal transacties over de tijd laat een patroon zien dat we goed kunnen verklaren. Zoals eerder aangegeven is de data verzameld over een periode van twee dagen en wordt de variabele gemeten in seconden. Daarom loopt de horizontale as van 0 tot 175.000. Dit klopt, aangezien er 172.800 seconden zitten in twee dagen.\n",
    "\n",
    "De dubbele piek geeft goed het betalingsverkeer weer. De eerste transacties worden in de ochtend verricht, blijven gedurende de dag hoog en vallen richting de nacht weer terug."
   ]
  },
  {
   "cell_type": "code",
   "execution_count": 9,
   "metadata": {},
   "outputs": [
    {
     "data": {
      "text/plain": [
       "<matplotlib.axes._subplots.AxesSubplot at 0x1a3dc17630>"
      ]
     },
     "execution_count": 9,
     "metadata": {},
     "output_type": "execute_result"
    },
    {
     "data": {
      "image/png": "[encoded data removed]",
      "text/plain": [
       "<Figure size 1080x576 with 1 Axes>"
      ]
     },
     "metadata": {
      "needs_background": "light"
     },
     "output_type": "display_data"
    }
   ],
   "source": [
    "plt.style.use('bmh')\n",
    "plt.figure(figsize=(15,8))\n",
    "plt.title(\"Verdeling van aantal transacties over tijd\")\n",
    "sns.distplot(df['Time'])"
   ]
  },
  {
   "cell_type": "markdown",
   "metadata": {},
   "source": [
    "### Waardes van de transactie\n",
    "\n",
    "Ook de transacties laten een voorspelbaar patroon zien. Het minimum bedrag is 0,00 en de gemiddelde transactie heeft een waarde van 88,35. Het gehele gewicht van de dataset ligt bij transacties met een relatief beperkt waarde. Het 99ste percentiel kent een waarde van iets meer dan 1.000 voor een transactie. De maximum waarde ligt op 25.691 voor een transactie. De munteenheid is niet vermeld, waardoor het niet mogelijk is om in te schatten of het om een hoog bedrag gaat of niet.\n",
    "\n",
    "In het volgende onderdeel wordt ook de waarde van de transactie genormaliseerd. Normaliter zou het ook slim zijn om de outliers eruit te halen. Maar omdat het aannemelijk is dat fraudeurs zoveel mogelijk willen verdienen aan hun misdaad, nemen we de outliers toch mee in de dataset."
   ]
  },
  {
   "cell_type": "code",
   "execution_count": 10,
   "metadata": {},
   "outputs": [
    {
     "data": {
      "text/plain": [
       "count    284807.00000\n",
       "mean         88.34962\n",
       "std         250.12011\n",
       "min           0.00000\n",
       "1%            0.12000\n",
       "5%            0.92000\n",
       "25%           5.60000\n",
       "50%          22.00000\n",
       "75%          77.16500\n",
       "95%         365.00000\n",
       "99%        1017.97000\n",
       "max       25691.16000\n",
       "Name: Amount, dtype: float64"
      ]
     },
     "execution_count": 10,
     "metadata": {},
     "output_type": "execute_result"
    }
   ],
   "source": [
    "df['Amount'].describe(percentiles=[.01, .05, .25, .5, .75, .95, .99]).round(5)"
   ]
  },
  {
   "cell_type": "code",
   "execution_count": 11,
   "metadata": {},
   "outputs": [
    {
     "data": {
      "text/plain": [
       "<matplotlib.axes._subplots.AxesSubplot at 0x1a3c27e9e8>"
      ]
     },
     "execution_count": 11,
     "metadata": {},
     "output_type": "execute_result"
    },
    {
     "data": {
      "image/png": "[encoded data removed]",
      "text/plain": [
       "<Figure size 1080x576 with 1 Axes>"
      ]
     },
     "metadata": {
      "needs_background": "light"
     },
     "output_type": "display_data"
    }
   ],
   "source": [
    "plt.figure(figsize=(15,8))\n",
    "plt.title(\"Verdeling van de waardes van de transacties\")\n",
    "sns.distplot(df['Amount'])"
   ]
  },
  {
   "cell_type": "markdown",
   "metadata": {},
   "source": [
    "### Correlatiematrix\n",
    "\n",
    "Tot slot willen we een inzicht hebben in de onderlinge verbanden tussen de variabelen van onze dataset. Hiervoor stellen we een correlatiematrix op in de vorm van een zogenaamde *heatmap*. Deze geeft - wanneer je veel variabelen hebt - snel de verbanden inzichtelijk weer door middel van kleuren, in plaats van getallen.\n",
    "\n",
    "De heatmap geeft goed het effect van PCA weer. PCA combineert bestaande variabelen die een bepaalde mate van correlatie met elkaar hebben tot een kleiner aantal nieuwe variabelen. Omdat bestaande gecorreleerde variabelen met elkaar worden gecombineerd, zal er minder correlatie tussen de PCA variabelen zijn."
   ]
  },
  {
   "cell_type": "code",
   "execution_count": 12,
   "metadata": {},
   "outputs": [
    {
     "data": {
      "text/plain": [
       "<matplotlib.axes._subplots.AxesSubplot at 0x1a3c377710>"
      ]
     },
     "execution_count": 12,
     "metadata": {},
     "output_type": "execute_result"
    },
    {
     "data": {
      "image/png": "[encoded data removed]",
      "text/plain": [
       "<Figure size 720x576 with 2 Axes>"
      ]
     },
     "metadata": {
      "needs_background": "light"
     },
     "output_type": "display_data"
    }
   ],
   "source": [
    "plt.figure(figsize=(10,8))\n",
    "plt.title('Correlatiematrix')\n",
    "sns.heatmap(df.corr())"
   ]
  },
  {
   "cell_type": "markdown",
   "metadata": {},
   "source": [
    "## Data cleaning / processing\n",
    "\n",
    "In dit onderdeel zullen we een tweetal acties verrichten, die het neurale netwerk moeten helpen om de zo goed mogelijk de transacties te classificeren:\n",
    "1. Het schalen van de variabelen Time en Amount\n",
    "2. Undersampling en oversampling"
   ]
  },
  {
   "cell_type": "markdown",
   "metadata": {},
   "source": [
    "### Time en Amount standaardiseren\n",
    "\n",
    "Zoals aangegeven zijn dit de enige variabelen in de dataset die daadwerkelijk betekenis hebben voor het menselijke oog. De waardes lopen sterk uiteen; van 0 tot ongeveer 26.000 voor transacties en van 0 tot 172.800 voor tijd. \n",
    "\n",
    "Deze variabelen gaan we schalen, zodat ze een gemiddelde waarde van 0,00 hebben en een standaardafwijking van 1,00. Dit wordt ook wel unit-variance genoemd. Waarom doen we dit? Algoritmes leren efficiënter wanneer alle variabelen op een gelijke schaal liggen. De exacte uitleg vind je in __[dit filmpje](https://www.youtube.com/watch?v=FDCfw-YqWTE)__ .\n",
    "\n",
    "We kunnen de variabelenechter pas standaardiseren nadat we onze dataset in een train-set, cv-set en test-set."
   ]
  },
  {
   "cell_type": "markdown",
   "metadata": {},
   "source": [
    "### Undersampling en oversampling\n",
    "\n",
    "De twee genoemde processen moeten het probleem van onbalans in de dataset oplossen. We willen namelijk niet dat het algoritme 99.83% nauwkeurigheid behaalt door elke transactie als niet-frauduleus te classificeren. Daarom passen we - los van elkaar - twee technieken toe die dit probleem tegen proberen te gaan."
   ]
  },
  {
   "cell_type": "markdown",
   "metadata": {},
   "source": [
    "#### Undersampling\n",
    "\n",
    "Op dit moment staan er tegenover de 492 frauduleuze transacties meer dan 284.000 niet-frauduleuze transacties. Bij undersampling pas je de dataset waar je op traint bewust aan. \n",
    "\n",
    "Je begint met het verdelen van je dataset in drie sub-sets:\n",
    "* Train set (90%)\n",
    "* Cross-validation set (5%)\n",
    "* Test set (5%)\n",
    "\n",
    "Bij undersampling halen gebruiken we een groot aantal van de niet-frauduleuze transacties uit de training dataset. Het voordeel hiervan is dat het algoritme geen goede score kan behalen als het alle transacties als niet-frauduleus classificeert. Er kleeft echter ook een nadeel aan deze techniek; er gaat namelijk een hoop informatie verloren die in de normale transacties zit.\n",
    "\n",
    "Verricht deze handeling alleen op de train set, we willen namelijk dat de verdeling van de set waar we ons algoritme mee beoordelen zo dicht mogelijk bij de werkelijkheid is. Zouden we deze datasets toch aanpassen, dan zal een beoordeling praktisch waardeloos zijn. \n",
    "\n",
    "Welke verhouding tussen frauduleuze transacties en niet-frauduleuze transacties aangehouden moet worden, is een proces van trial en error. In eerste instantie zijn we begonnen met een verhouding van 1:1. Dit houdt in dat voor elke frauduleuze transactie er één niet-frauduleuze transactie in de training dataset zit.\n",
    "\n",
    "Na een aantal iteraties kwamen we erachter dat een verhouding van 1:1,5 het best werkt voor deze dataset. Dat houdt dus in dat voor elke frauduleuze transactie er 1,5 niet-frauduleuze transacties in de training dataset zit.\n",
    "\n",
    "Om sneller te itereren, hebben we het opstellen van een dataset op basis van undersampling gebouwd in een functie. Het zet een DataFrame om in nieuwe datasets voor training, cross validation en testing in de gewenste verhoudingen. Deze functie standardiseert tevens de tijd en waarde van de transactie.\n",
    "\n",
    "De functie inclusief documentatie is aan het einde van deze case te vinden. Omwille van het overzicht gaan we daar nu niet dieper op in."
   ]
  },
  {
   "cell_type": "code",
   "execution_count": 13,
   "metadata": {},
   "outputs": [
    {
     "data": {
      "text/plain": [
       "{'Total number of records': 284807,\n",
       " 'Total number of fraud records': 492,\n",
       " 'Number of independent variables': 30,\n",
       " 'Total number of records in train': 1125,\n",
       " 'Total number of fraud records in train': 450,\n",
       " 'Number of independent variables in train': 30,\n",
       " 'Total number of records in cv': 14241,\n",
       " 'Total number of fraud records in cv': 21,\n",
       " 'Number of independent variables in cv': 30,\n",
       " 'Total number of records in test': 14241,\n",
       " 'Total number of fraud records in test': 21,\n",
       " 'Number of independent variables in test': 30}"
      ]
     },
     "execution_count": 13,
     "metadata": {},
     "output_type": "execute_result"
    }
   ],
   "source": [
    "x_train_us, y_train_us, x_cv_us, y_cv_us, x_test_us, y_test_us, metrics_dict_us = split_and_scale_undersample(df, balance_ratio=1.5, cv_ratio=0.05, test_ratio=0.05)\n",
    "\n",
    "metrics_dict_us"
   ]
  },
  {
   "cell_type": "markdown",
   "metadata": {},
   "source": [
    "### Oversampling\n",
    "\n",
    "Het tegenovergestelde van undersampling is oversampling: we gaan meer fraudeleuze transacties creëren. De eenvoudigste manier zou zijn om gewoon kopieën aan onze set toe te voegen. Deze manier van oversampling is echter gevoelig voor overfitting. Er bestaat ook een manier om betere resultaten te behalen door middel van Synthetic Minority Over-sampling Technique, beter bekend als SMOTE. \n",
    "\n",
    "Het resultaat is dat er nu 227.465 frauduleuze transacties in training set te vinden zijn. Het aantal frauduleuze transacties in de cross-validation set en test set zijn ongewijzigd, gezien we een zo realistisch mogelijk verdeling willen hebben."
   ]
  },
  {
   "cell_type": "code",
   "execution_count": 24,
   "metadata": {},
   "outputs": [
    {
     "data": {
      "text/plain": [
       "{'Total number of records': 284807,\n",
       " 'Total number of fraud records': 492,\n",
       " 'Number of independent variables': 30,\n",
       " 'Total number of records in train': 454930,\n",
       " 'Total number of fraud records in train': 227465,\n",
       " 'Number of independent variables in train': 30,\n",
       " 'Total number of records in cv': 28481,\n",
       " 'Total number of fraud records in cv': 66,\n",
       " 'Number of independent variables in cv': 30,\n",
       " 'Total number of records in test': 28481,\n",
       " 'Total number of fraud records in test': 46,\n",
       " 'Number of independent variables in test': 30}"
      ]
     },
     "execution_count": 24,
     "metadata": {},
     "output_type": "execute_result"
    }
   ],
   "source": [
    "x_train_os, y_train_os, x_cv_os, y_cv_os, x_test_os, y_test_os, metrics_dict_os = split_and_scale_oversample(df)\n",
    "\n",
    "metrics_dict_os"
   ]
  },
  {
   "cell_type": "markdown",
   "metadata": {},
   "source": [
    "## Prototype model\n",
    "\n",
    "Voor we in dit onderdeel een relatief eenvoudig neuraal netwerk bouwen om de creditcardfraude op te kunnen sporen, moeten we eerst maatstaf voor prestatie opstellen. Wat in het geval van deze use case het meest aannemelijk is, is om te kijken naar de Precision-recall curve en de average precision score (AP) te meten. Waarom we voor deze maatstaf kiezen, leggen we uit direct nadat we het eerste model op hebben gesteld."
   ]
  },
  {
   "cell_type": "markdown",
   "metadata": {},
   "source": [
    "### Een eenvoudig neuraal netwerk\n",
    "\n",
    "We beginnen met een simpel netwerk om zicht te krijgen op de potentie van onze dataset en een mogelijk model, voor we meer complexe modellen bouwen.\n",
    "\n",
    "Om snel een functioneel model te krijgen, maken we gebruik van het Keras framework. Hierin bouwen we een netwerk met een enkele verborgen laag van 32 knooppunten en een outputlaag van 1 knooppunt. Deze laatste laag geeft aan wat de waarschijnlijkheid van een hit is. We trainen het model voor 10 iteraties. "
   ]
  },
  {
   "cell_type": "code",
   "execution_count": 88,
   "metadata": {},
   "outputs": [],
   "source": [
    "from tensorflow.keras import Sequential\n",
    "from tensorflow.keras.layers import Dense\n",
    "from tensorflow.keras.activations import relu, sigmoid\n",
    "from tensorflow.keras.losses import binary_crossentropy\n",
    "from tensorflow.keras.optimizers import Adam"
   ]
  },
  {
   "cell_type": "code",
   "execution_count": 178,
   "metadata": {},
   "outputs": [],
   "source": [
    "model = Sequential([\n",
    "    Dense(32, activation=relu),\n",
    "    Dense(1, activation=sigmoid)\n",
    "])"
   ]
  },
  {
   "cell_type": "code",
   "execution_count": 179,
   "metadata": {},
   "outputs": [
    {
     "name": "stdout",
     "output_type": "stream",
     "text": [
      "Train on 454930 samples\n",
      "Epoch 1/5\n",
      "454930/454930 [==============================] - 15s 32us/sample - loss: 0.0563\n",
      "Epoch 2/5\n",
      "454930/454930 [==============================] - 13s 29us/sample - loss: 0.0133\n",
      "Epoch 3/5\n",
      "454930/454930 [==============================] - 13s 29us/sample - loss: 0.0079\n",
      "Epoch 4/5\n",
      "454930/454930 [==============================] - 12s 27us/sample - loss: 0.0057\n",
      "Epoch 5/5\n",
      "454930/454930 [==============================] - 15s 33us/sample - loss: 0.0045\n"
     ]
    },
    {
     "data": {
      "text/plain": [
       "<tensorflow.python.keras.callbacks.History at 0x1a4a84acf8>"
      ]
     },
     "execution_count": 179,
     "metadata": {},
     "output_type": "execute_result"
    }
   ],
   "source": [
    "model.compile(optimizer=Adam(), loss=binary_crossentropy)\n",
    "\n",
    "model.fit(\n",
    "    x_train_os, y_train_os, \n",
    "    epochs=5, batch_size=64, \n",
    "    verbose=1,\n",
    ")"
   ]
  },
  {
   "cell_type": "markdown",
   "metadata": {},
   "source": [
    "### Prestatie maatstaf\n",
    "\n",
    "Om het model te beoordelen, kijken we naar de precision-recall curve en de average precision score. De precision-recall curve zet de nauwkeurigheid van de classificatie af tegen de gevoeligheid van het model. \n",
    "\n",
    "Precisie houdt in dat we kijken naar de hoeveel correct gekozen positieve classificaties. Dus hoeveel van de fraude classificaties die het model maakt, zijn nu ook daadwerkelijk fraude. Dit bereken je als volgt:\n",
    "\n",
    "$$Precision=\\frac{True Positives}{True Positives + False Positives}$$\n",
    "<br>\n",
    "\n",
    "Recall geeft aan hoe gevoelig het model is. Dit vertaalt zich naar hoeveel van alle frauduleuze transacties het model in staat was te herkennen:\n",
    "\n",
    "$$Recall=\\frac{True Positives}{True Positives + False Negatives}$$\n",
    "<br>\n",
    "\n",
    "Een goed model maximalizeert de gevoeligheid, zonder veel aan precisie in te boeten. Oftewel, een goed model herkent zoveel mogelijk frauduleuze transacties, zonder fouten te maken in de classificatie. \n",
    "\n",
    "__[Dit artikel](https://machinelearningmastery.com/roc-curves-and-precision-recall-curves-for-classification-in-python/)__ van Jason Brownlee gaat dieper in op waarom de precision-recall curve een geschikte tool is om modellen te beoordelen die op onevenwichtige datasets zijn gebouwd.\n",
    "\n",
    "#### Precision-recall trade-off\n",
    "Uit bovenstaande uitleg valt te concluderen dat er een trade-off zit tussen precisie en recall. Dat betekent dat je als gebruiker een keuze moet maken tussen de gevoeligheid en precisie van het model. Het een gaat ten koste van het ander. Aan de ene kant kan het model zoveel mogelijk frauduleuze transacties proberen te herkennen en meer false positives te genereren. Aan de andere kant kan het model een hoge mate van precisie bereiken, door enkel een transactie te classificeren als frauduleus als het heel zeker is van zijn zaak. In het laatste geval betekent dat dat er een hoop transacties van twijfelachtige aard genegeerd worden.\n",
    "\n",
    "Sensitieve modellen worden verkozen wanneer we absoluut geen signaal mogen missen, bijvoorbeeld wanneer we een scan controleren op mogelijk kwaadaardige tumren bij een patiënt.\n",
    "\n",
    "Preciese modellen werken goed wanneer men zeker moet zijn als er een keuze gemaakt wordt, bijvoorbeeld voor een algoritme dat aandelen verhandeld op de beurs naar aanleiding van nieuwsberichten.\n",
    "\n",
    "Of recall of precisie voorrang heeft in de creditcardfraude use case, laten we voor nu in het midden. Het is onze taak om de verhouding te maximalizeren, ongeacht waar de eindgebruiker voorrang aan geeft. Dit vatten we in de average precision score (AP), die de gemiddelde precisie weergeeft over meerdere recall scenario's.\n",
    "\n",
    "We bouwen het opstellen van de prestatiemaatstaf in een functie, zodat we deze voor latere modellen weer kunnen gebruiken met slechts een regel.\n",
    "\n",
    "In ons eenvoudig model bereiken we AP van 0,81 op de cross-validation dataset."
   ]
  },
  {
   "cell_type": "code",
   "execution_count": 166,
   "metadata": {},
   "outputs": [],
   "source": [
    "from sklearn.metrics import precision_recall_curve, average_precision_score"
   ]
  },
  {
   "cell_type": "code",
   "execution_count": 185,
   "metadata": {},
   "outputs": [],
   "source": [
    "def model_target_metrics(model, x_train, y_train, x_cv, y_cv):\n",
    "    #bouw de precision-recall curve en AP voor de train dataset.\n",
    "    y_hat_prob_train = model.predict(x_train)\n",
    "    precision_train, recall_train, thresholds_train = precision_recall_curve(y_train, y_hat_prob_train)\n",
    "    aps_train = average_precision_score(y_train, y_hat_prob_train)\n",
    "    \n",
    "    #bouw de precision-recall curve en AP voor de cv dataset.\n",
    "    y_hat_prob_cv = model.predict(x_cv)\n",
    "    precision_cv, recall_cv, thresholds_cv = precision_recall_curve(y_cv, y_hat_prob_cv)\n",
    "    aps_cv = average_precision_score(y_cv, y_hat_prob_cv)\n",
    "    \n",
    "    #print de AP uitkomsten en stel grafiek op met zowel de train als de cv precision recall curve\n",
    "    print(\"Average precision score op train set voor model getrained op oversampled training set is {}.\".format(aps_train.round(4)))\n",
    "    print(\"Average precision score op cross-validation set voor model getrained op oversampled training set is {}\\n.\".format(aps_cv.round(4)))\n",
    "\n",
    "    plt.figure(figsize=(15,8))\n",
    "    plt.plot(recall_train, precision_train, color='darkorange',\n",
    "             lw=2, label='Train Precision recall curve')\n",
    "    plt.plot(recall_cv, precision_cv, color='darkblue',\n",
    "         lw=2, label='Cross-Val Precision recall curve')\n",
    "    plt.xlim([0.0, 1.05])\n",
    "    plt.ylim([0.0, 1.05])\n",
    "    plt.xlabel('Recall')\n",
    "    plt.ylabel('Precision')\n",
    "    plt.title('Precision-recall curve')\n",
    "    plt.legend(loc=\"lower left\")\n",
    "    plt.show()\n"
   ]
  },
  {
   "cell_type": "code",
   "execution_count": 186,
   "metadata": {},
   "outputs": [
    {
     "name": "stdout",
     "output_type": "stream",
     "text": [
      "Average precision score op train set voor model getrained op oversampled training set is 0.9999.\n",
      "Average precision score op cross-validation set voor model getrained op oversampled training set is 0.8105\n",
      ".\n"
     ]
    },
    {
     "data": {
      "image/png": "[encoded data removed]",
      "text/plain": [
       "<Figure size 1080x576 with 1 Axes>"
      ]
     },
     "metadata": {
      "needs_background": "light"
     },
     "output_type": "display_data"
    }
   ],
   "source": [
    "model_target_metrics(model, x_train_os, y_train_os, x_cv_os, y_cv_os)"
   ]
  },
  {
   "cell_type": "markdown",
   "metadata": {},
   "source": [
    "## Optimaal model\n",
    "\n",
    "Het vinden van een optimaal model is een iteratief proces met een hoog empirisch karakter. Voor deze use case proberen we een tweetal modellen:\n",
    "* Model met meer lagen\n",
    "* Model met meer knooppunten per laag\n",
    "\n",
    "Om het vinden van het optimale model makkelijker te maken, bouwen we een checkpoint in in ons model dat na elke iteratie bijhoudt wat de AP is. Vervolgens vergelijkt het deze nieuwe AP met eerdere scores en slaat het best presterende model op. "
   ]
  },
  {
   "cell_type": "markdown",
   "metadata": {},
   "source": [
    "### Model met meer lagen\n",
    "\n",
    "Meer lagen staan complexere verbanden toe. Zoals je hier beneden ziet, daalt de AP score. Dit betekent dat we het model overfitten op de train data. "
   ]
  },
  {
   "cell_type": "code",
   "execution_count": 181,
   "metadata": {},
   "outputs": [
    {
     "name": "stdout",
     "output_type": "stream",
     "text": [
      "Train on 454930 samples\n",
      "Epoch 1/10\n",
      "454930/454930 [==============================] - 16s 35us/sample - loss: 0.0196\n",
      "Epoch 2/10\n",
      "454930/454930 [==============================] - 16s 34us/sample - loss: 0.0048\n",
      "Epoch 3/10\n",
      "454930/454930 [==============================] - 17s 37us/sample - loss: 0.0035\n",
      "Epoch 4/10\n",
      "454930/454930 [==============================] - 14s 31us/sample - loss: 0.0030\n",
      "Epoch 5/10\n",
      "454930/454930 [==============================] - 15s 33us/sample - loss: 0.0026\n",
      "Epoch 6/10\n",
      "454930/454930 [==============================] - 15s 32us/sample - loss: 0.0024\n",
      "Epoch 7/10\n",
      "454930/454930 [==============================] - 14s 31us/sample - loss: 0.0021\n",
      "Epoch 8/10\n",
      "454930/454930 [==============================] - 14s 32us/sample - loss: 0.0019\n",
      "Epoch 9/10\n",
      "454930/454930 [==============================] - 15s 33us/sample - loss: 0.0018\n",
      "Epoch 10/10\n",
      "454930/454930 [==============================] - 15s 34us/sample - loss: 0.0017\n"
     ]
    },
    {
     "data": {
      "text/plain": [
       "<tensorflow.python.keras.callbacks.History at 0x1a48afbf98>"
      ]
     },
     "execution_count": 181,
     "metadata": {},
     "output_type": "execute_result"
    }
   ],
   "source": [
    "model_multi_layer = Sequential([\n",
    "    Dense(32, activation=relu),\n",
    "    Dense(32, activation=relu),\n",
    "    Dense(32, activation=relu),\n",
    "    Dense(1, activation=sigmoid)\n",
    "])\n",
    "\n",
    "model_multi_layer.compile(optimizer=Adam(), loss=binary_crossentropy)\n",
    "\n",
    "model_multi_layer.fit(\n",
    "    x_train_os, y_train_os, \n",
    "    epochs=10, batch_size=64, \n",
    "    verbose=1,\n",
    ")"
   ]
  },
  {
   "cell_type": "code",
   "execution_count": 187,
   "metadata": {},
   "outputs": [
    {
     "name": "stdout",
     "output_type": "stream",
     "text": [
      "Average precision score op train set voor model getrained op oversampled training set is 1.0.\n",
      "Average precision score op cross-validation set voor model getrained op oversampled training set is 0.7899\n",
      ".\n"
     ]
    },
    {
     "data": {
      "image/png": "[encoded data removed]",
      "text/plain": [
       "<Figure size 1080x576 with 1 Axes>"
      ]
     },
     "metadata": {
      "needs_background": "light"
     },
     "output_type": "display_data"
    }
   ],
   "source": [
    "model_target_metrics(model_multi_layer, x_train_os, y_train_os, x_cv_os, y_cv_os)"
   ]
  },
  {
   "cell_type": "markdown",
   "metadata": {},
   "source": [
    "Om het overfitten tegen te gaan passen we een regularization techniek toe, genaamd dropout. Deze laat willekeurig een aangegeven percentage van de knooppunten in het netwerk uitvallen per iteratie, zodat het netwerk niet te afhankelijk wordt van een paar punten. \n",
    "\n",
    "Wat dropout precies is, wordt goed uitgelegd door Andrew Ng in __[dit filmpje](https://www.youtube.com/watch?v=D8PJAL-MZv8)__.\n",
    "\n",
    "We bouwen nog een keer exact hetzelfde netwerk, maar nu met een Dropout toegepast op elke laag."
   ]
  },
  {
   "cell_type": "code",
   "execution_count": 198,
   "metadata": {},
   "outputs": [
    {
     "name": "stdout",
     "output_type": "stream",
     "text": [
      "Train on 454930 samples\n",
      "Epoch 1/10\n",
      "454930/454930 [==============================] - 19s 42us/sample - loss: 0.1002\n",
      "Epoch 2/10\n",
      "454930/454930 [==============================] - 17s 38us/sample - loss: 0.0379\n",
      "Epoch 3/10\n",
      "454930/454930 [==============================] - 17s 37us/sample - loss: 0.0327\n",
      "Epoch 4/10\n",
      "454930/454930 [==============================] - 18s 39us/sample - loss: 0.0292\n",
      "Epoch 5/10\n",
      "454930/454930 [==============================] - 16s 36us/sample - loss: 0.0281\n",
      "Epoch 6/10\n",
      "454930/454930 [==============================] - 17s 37us/sample - loss: 0.0266\n",
      "Epoch 7/10\n",
      "454930/454930 [==============================] - 20s 44us/sample - loss: 0.0254\n",
      "Epoch 8/10\n",
      "454930/454930 [==============================] - 17s 38us/sample - loss: 0.0248\n",
      "Epoch 9/10\n",
      "454930/454930 [==============================] - 25s 54us/sample - loss: 0.0241s - loss: 0.024 \n",
      "Epoch 10/10\n",
      "454930/454930 [==============================] - 17s 37us/sample - loss: 0.0234\n"
     ]
    },
    {
     "data": {
      "text/plain": [
       "<tensorflow.python.keras.callbacks.History at 0x1a566d5fd0>"
      ]
     },
     "execution_count": 198,
     "metadata": {},
     "output_type": "execute_result"
    }
   ],
   "source": [
    "from tensorflow.keras.layers import Dropout\n",
    "\n",
    "model_multi_layer_dropout = Sequential([\n",
    "    Dense(32, activation=relu),\n",
    "    Dropout(0.5),\n",
    "    Dense(32, activation=relu),\n",
    "    Dropout(0.5),\n",
    "    Dense(32, activation=relu),\n",
    "    Dropout(0.5),\n",
    "    Dense(1, activation=sigmoid)\n",
    "])\n",
    "\n",
    "model_multi_layer_dropout.compile(optimizer=Adam(), loss=binary_crossentropy)\n",
    "\n",
    "model_multi_layer_dropout.fit(\n",
    "    x_train_os, y_train_os, \n",
    "    epochs=10, batch_size=64, \n",
    "    verbose=1,\n",
    ")"
   ]
  },
  {
   "cell_type": "code",
   "execution_count": 199,
   "metadata": {},
   "outputs": [
    {
     "name": "stdout",
     "output_type": "stream",
     "text": [
      "Average precision score op train set voor model getrained op oversampled training set is 0.9997.\n",
      "Average precision score op cross-validation set voor model getrained op oversampled training set is 0.7889\n",
      ".\n"
     ]
    },
    {
     "data": {
      "image/png": "[encoded data removed]",
      "text/plain": [
       "<Figure size 1080x576 with 1 Axes>"
      ]
     },
     "metadata": {
      "needs_background": "light"
     },
     "output_type": "display_data"
    }
   ],
   "source": [
    "model_target_metrics(model_multi_layer_dropout, x_train_os, y_train_os, x_cv_os, y_cv_os)"
   ]
  },
  {
   "cell_type": "markdown",
   "metadata": {},
   "source": [
    "### Model met meer knooppunten per laag\n",
    "\n",
    "Meer lagen staan complexere verbanden toe. Zoals je hier beneden ziet, daalt de AP score. Dit betekent dat we het model overfitten op de train data. "
   ]
  },
  {
   "cell_type": "code",
   "execution_count": 200,
   "metadata": {},
   "outputs": [
    {
     "name": "stdout",
     "output_type": "stream",
     "text": [
      "Train on 454930 samples\n",
      "Epoch 1/10\n",
      "454930/454930 [==============================] - 13s 28us/sample - loss: 0.0262\n",
      "Epoch 2/10\n",
      "454930/454930 [==============================] - 12s 27us/sample - loss: 0.0051\n",
      "Epoch 3/10\n",
      "454930/454930 [==============================] - 13s 28us/sample - loss: 0.0031\n",
      "Epoch 4/10\n",
      "454930/454930 [==============================] - 12s 27us/sample - loss: 0.0024s - \n",
      "Epoch 5/10\n",
      "454930/454930 [==============================] - 13s 28us/sample - loss: 0.0019\n",
      "Epoch 6/10\n",
      "454930/454930 [==============================] - 15s 34us/sample - loss: 0.0018\n",
      "Epoch 7/10\n",
      "454930/454930 [==============================] - 13s 29us/sample - loss: 0.0015\n",
      "Epoch 8/10\n",
      "454930/454930 [==============================] - 15s 33us/sample - loss: 0.0013\n",
      "Epoch 9/10\n",
      "454930/454930 [==============================] - 13s 29us/sample - loss: 0.0012\n",
      "Epoch 10/10\n",
      "454930/454930 [==============================] - 16s 36us/sample - loss: 0.0011\n"
     ]
    },
    {
     "data": {
      "text/plain": [
       "<tensorflow.python.keras.callbacks.History at 0x1a4b2e8908>"
      ]
     },
     "execution_count": 200,
     "metadata": {},
     "output_type": "execute_result"
    }
   ],
   "source": [
    "model_more_nodes = Sequential([\n",
    "    Dense(128, activation=relu),\n",
    "    Dense(1, activation=sigmoid)\n",
    "])\n",
    "\n",
    "model_more_nodes.compile(optimizer=Adam(), loss=binary_crossentropy)\n",
    "\n",
    "model_more_nodes.fit(\n",
    "    x_train_os, y_train_os, \n",
    "    epochs=10, batch_size=64, \n",
    "    verbose=1,\n",
    ")"
   ]
  },
  {
   "cell_type": "code",
   "execution_count": 201,
   "metadata": {},
   "outputs": [
    {
     "name": "stdout",
     "output_type": "stream",
     "text": [
      "Average precision score op train set voor model getrained op oversampled training set is 1.0.\n",
      "Average precision score op cross-validation set voor model getrained op oversampled training set is 0.7974\n",
      ".\n"
     ]
    },
    {
     "data": {
      "image/png": "[encoded data removed]",
      "text/plain": [
       "<Figure size 1080x576 with 1 Axes>"
      ]
     },
     "metadata": {
      "needs_background": "light"
     },
     "output_type": "display_data"
    }
   ],
   "source": [
    "model_target_metrics(model_more_nodes, x_train_os, y_train_os, x_cv_os, y_cv_os)"
   ]
  },
  {
   "cell_type": "markdown",
   "metadata": {},
   "source": [
    "## Conclusie\n",
    "\n",
    "Deze creditcardfraude use case benadert wat je in de echte wereld tegen kunt komen, op het gebied van ongebalanceerde datasets. We beschikken over slechts twee dagen aan transacties, waardoor we snel 'overfitten' op de trainingdata en de prestaties op ongeziene data achter blijven. \n",
    "\n",
    "In de praktijk zul je vaak zien - net zoals hierboven ook blijkt - dat het model misschien niet altijd even complex hoeft te zijn en dat daar ook slechts een klein deel van de tijd gaat zitten. Het merendeel van de tijd gaat zitten in het doorgronden van het probleem en het voorbereiden van de data. "
   ]
  },
  {
   "cell_type": "markdown",
   "metadata": {},
   "source": [
    "## Appendix\n",
    "\n",
    "Hier beneden vind je de twee functies die het DataFrame omzetten in gescheiden datasets voor training, cross-validation en testing. De eerste functie stelt je in staat om undersampling in een gewenste ratio eenvoudig uit te voeren, waarbij de tweede functie dat voor oversampling doet. "
   ]
  },
  {
   "cell_type": "code",
   "execution_count": 18,
   "metadata": {},
   "outputs": [],
   "source": [
    "from sklearn.preprocessing import StandardScaler\n",
    "from sklearn.model_selection import train_test_split\n",
    "\n",
    "def split_and_scale_undersample(df, balance_ratio=1, cv_ratio=0.1, test_ratio=0.1):\n",
    "    '''\n",
    "    split_and_scale_undersample performs two tasks.\n",
    "\n",
    "    Firstly it transforms a unbalanced dataframe to three subsets. A train set, \n",
    "    of which the balancing between positive and negative has been altered for train purposes.\n",
    "    This is done by using undersampling the training set.\n",
    "    The cv and test set maintain the original distribution.\n",
    "\n",
    "    Secondly, it scales the variables Amount and Time, by using a standard scaler. The scaler is fitted\n",
    "    on the train set and applied on the cv and test set.\n",
    "\n",
    "    Input arguments:\n",
    "    1. df - (pd DataFrame)|the original dataframe as a whole, without any data manipulation done\n",
    "    2. balance_ratio - (float)|desired ratio between number of fraud cases and non-fraud cases\n",
    "\n",
    "    Output variables:\n",
    "    1. x_train - (np array)|independent variables in desired balance ratio of fraud to non-fraud cases\n",
    "    2. y_train - (np array)|classification of fraud/non-fraud in desired balance ratio\n",
    "    3. x_cv - (np array)|cross validation dependent variables with original distribution\n",
    "    4. y_cv - (np array)|cross validation classification of fraud/non-fraud with original distribution\n",
    "    5. x_test - (np array)|test dependent variables with original distribution\n",
    "    6. y_test - (np array)|test validation classification of fraud/non-fraud with original distribution\n",
    "\n",
    "    7. metrics_dict - (dict)|metrics on set sizes\n",
    "    '''\n",
    "\n",
    "    #declare necessary functions and instantiate StandardScaler for both time and amount\n",
    "    metrics_dict = {}\n",
    "    scaler = StandardScaler()\n",
    "\n",
    "    '''\n",
    "    SPLITTING\n",
    "    --------------------------------------------------------------------------------\n",
    "    '''\n",
    "    #split dataframe into x and y\n",
    "    df_x = df.drop('Class', axis=1).copy()\n",
    "    df_y = df['Class'].copy()\n",
    "\n",
    "    #split dataframe into train, cv, test\n",
    "    x_train, x_test, y_train, y_test = train_test_split(df_x, df_y, test_size = test_ratio, random_state=42)\n",
    "\n",
    "    cv_ratio = cv_ratio / (1-test_ratio)\n",
    "    x_train, x_cv, y_train, y_cv = train_test_split(x_train, y_train, test_size = cv_ratio, random_state=42)\n",
    "\n",
    "\n",
    "    '''\n",
    "    SCALING\n",
    "    --------------------------------------------------------------------------------\n",
    "    '''\n",
    "    #scale Time and Amount variables; fit and transform on train set and drop non-scaled Class and Time.\n",
    "    x_train[['Time','Amount']] = scaler.fit_transform(x_train[['Time','Amount']])\n",
    "\n",
    "\n",
    "    #Transform cv and test set and drop non-scaled Class and Time; pandas detects a SettingWithCopyWarning when transformer is applied on x_test, hence create a copy before applying\n",
    "    #Convert dataframes to numpy, to make them suitable for processing by model\n",
    "    x_cv[['Time','Amount']] = scaler.transform(x_cv[['Time','Amount']])\n",
    "    x_cv = x_cv.to_numpy()\n",
    "    y_cv = y_cv.to_numpy()\n",
    "    \n",
    "    #Set copy of x_test to avoid SettingWithCopyWarning from occurring\n",
    "    x_test = x_test.copy() \n",
    "    x_test[['Time','Amount']] = scaler.transform(x_test[['Time','Amount']])\n",
    "    x_test = x_test.to_numpy()\n",
    "    y_test = y_test.to_numpy()\n",
    "\n",
    "\n",
    "    '''\n",
    "    UNDER-BALANCING\n",
    "    --------------------------------------------------------------------------------\n",
    "    '''\n",
    "    #return the index of fraud transactions in training set. \n",
    "    #Use this to create a mask that can be used for x_train and y_train and turn df to numpy arrays\n",
    "    fraud_index = list(y_train[y_train == 1].index)\n",
    "    fraud_mask = y_train.index.isin(fraud_index)\n",
    "\n",
    "    x_train_f = x_train[fraud_mask].to_numpy()\n",
    "    y_train_f = y_train[fraud_mask].to_numpy()\n",
    "\n",
    "    x_train_nf = x_train[~fraud_mask].to_numpy()\n",
    "    y_train_nf = y_train[~fraud_mask].to_numpy()\n",
    "\n",
    "    #Use permutation to select a random subset of the non-fraud cases\n",
    "    #Number of records is equal to fraud cases in training set * balance ratio\n",
    "    permutation_index = list(np.random.permutation(len(x_train_nf)))\n",
    "\n",
    "    no_records = int(len(y_train_f) * balance_ratio)\n",
    "\n",
    "    x_train_nf_partial = x_train_nf[permutation_index[:no_records]]\n",
    "    y_train_nf_partial = y_train_nf[permutation_index[:no_records]]\n",
    "\n",
    "    x_train = np.concatenate((x_train_f, x_train_nf_partial), axis=0)\n",
    "    y_train = np.concatenate((y_train_f, y_train_nf_partial), axis=0)\n",
    "\n",
    "    #Shuffle the train set \n",
    "    shuffle_set = list(np.random.permutation(len(y_train)))\n",
    "    x_train = x_train[shuffle_set]\n",
    "    y_train = y_train[shuffle_set]\n",
    "\n",
    "\n",
    "    '''\n",
    "    DICTIONAIRY VALUES\n",
    "    --------------------------------------------------------------------------------\n",
    "    '''\n",
    "    #Populate dict with important metrics\n",
    "    metrics_dict[\"Total number of records\"] = len(df)\n",
    "    metrics_dict[\"Total number of fraud records\"] = len(df[df['Class']==1])\n",
    "    metrics_dict[\"Number of independent variables\"] = df_x.shape[1]\n",
    "\n",
    "    metrics_dict[\"Total number of records in train\"] = len(x_train)\n",
    "    metrics_dict[\"Total number of fraud records in train\"] = y_train.sum()\n",
    "    metrics_dict[\"Number of independent variables in train\"] = x_train.shape[1]\n",
    "\n",
    "    metrics_dict[\"Total number of records in cv\"] = len(x_cv)\n",
    "    metrics_dict[\"Total number of fraud records in cv\"] = y_cv.sum()\n",
    "    metrics_dict[\"Number of independent variables in cv\"] = x_cv.shape[1]\n",
    "\n",
    "    metrics_dict[\"Total number of records in test\"] = len(x_test)\n",
    "    metrics_dict[\"Total number of fraud records in test\"] = y_test.sum()\n",
    "    metrics_dict[\"Number of independent variables in test\"] = x_test.shape[1]\n",
    "\n",
    "    return x_train, y_train, x_cv, y_cv, x_test, y_test, metrics_dict\n"
   ]
  },
  {
   "cell_type": "code",
   "execution_count": 22,
   "metadata": {},
   "outputs": [],
   "source": [
    "from imblearn.over_sampling import SMOTE\n",
    "\n",
    "def split_and_scale_oversample(df, cv_ratio=0.1, test_ratio=0.1):\n",
    "    '''\n",
    "    split_and_scale_oversample performs two tasks.\n",
    "\n",
    "    Firstly it transforms an unbalanced dataframe to three subsets. A train set, \n",
    "    of which the balancing between positive and negative has been altered for train purposes.\n",
    "    This is done by oversampling, using a technique called SMOTE\n",
    "    The cv and test set maintain the original distribution.\n",
    "\n",
    "    Secondly, it scales the variables Amount and Time, by using a standard scaler. The scaler is fitted\n",
    "    on the train set and applied on the cv and test set.\n",
    "\n",
    "    Input arguments:\n",
    "    1. df - (pd DataFrame)|the original dataframe as a whole, without any data manipulation done\n",
    "\n",
    "    Output variables:\n",
    "    1. x_train - (np array)|independent variables in desired balance ratio of fraud to non-fraud cases\n",
    "    2. y_train - (np array)|classification of fraud/non-fraud in desired balance ratio\n",
    "    3. x_cv - (np array)|cross validation dependent variables with original distribution\n",
    "    4. y_cv - (np array)|cross validation classification of fraud/non-fraud with original distribution\n",
    "    5. x_test - (np array)|test dependent variables with original distribution\n",
    "    6. y_test - (np array)|test validation classification of fraud/non-fraud with original distribution\n",
    "\n",
    "    7. metrics_dict - (dict)|metrics on set sizes\n",
    "    '''\n",
    "    \n",
    "    #declare necessary functions and instantiate StandardScaler for both time and amount\n",
    "    metrics_dict = {}\n",
    "    scaler = StandardScaler()\n",
    "    \n",
    "    \n",
    "    '''\n",
    "    SPLITTING\n",
    "    --------------------------------------------------------------------------------\n",
    "    '''\n",
    "    #split dataframe into x and y\n",
    "    df_x = df.drop('Class', axis=1).copy()\n",
    "    df_y = df['Class'].copy()\n",
    "\n",
    "    #split dataframe into train, cv, test\n",
    "    x_train, x_test, y_train, y_test = train_test_split(df_x, df_y, test_size = test_ratio, random_state=42)\n",
    "\n",
    "    cv_ratio = cv_ratio / (1-test_ratio)\n",
    "    x_train, x_cv, y_train, y_cv = train_test_split(x_train, y_train, test_size = cv_ratio, random_state=42)\n",
    "    \n",
    "    \n",
    "    '''\n",
    "    SCALING\n",
    "    --------------------------------------------------------------------------------\n",
    "    '''\n",
    "    #scale Time and Amount variables; fit and transform on train set and drop non-scaled Class and Time.\n",
    "    x_train[['Time','Amount']] = scaler.fit_transform(x_train[['Time','Amount']])\n",
    "\n",
    "\n",
    "    #Transform cv and test set and drop non-scaled Class and Time; pandas detects a SettingWithCopyWarning when transformer is applied on x_test, hence create a copy before applying\n",
    "    #Convert dataframes to numpy, to make them suitable for processing by model\n",
    "    x_cv[['Time','Amount']] = scaler.transform(x_cv[['Time','Amount']])\n",
    "    x_cv = x_cv.to_numpy()\n",
    "    y_cv = y_cv.to_numpy()\n",
    "    \n",
    "    #Set copy of x_test to avoid SettingWithCopyWarning from occurring\n",
    "    x_test = x_test.copy() \n",
    "    x_test[['Time','Amount']] = scaler.transform(x_test[['Time','Amount']])\n",
    "    x_test = x_test.to_numpy()\n",
    "    y_test = y_test.to_numpy()\n",
    "    \n",
    "    \n",
    "    '''\n",
    "    OVER-BALANCING\n",
    "    --------------------------------------------------------------------------------\n",
    "    '''\n",
    "    smote = SMOTE(random_state=42)\n",
    "    \n",
    "    x_train, y_train = x_train.to_numpy(), y_train.to_numpy()\n",
    "    x_train, y_train = smote.fit_resample(x_train, y_train)\n",
    "    \n",
    "    #Shuffle the train set \n",
    "    shuffle_set = list(np.random.permutation(len(y_train)))\n",
    "    x_train = x_train[shuffle_set]\n",
    "    y_train = y_train[shuffle_set]\n",
    "    \n",
    "    \n",
    "    '''\n",
    "    DICTIONAIRY VALUES\n",
    "    --------------------------------------------------------------------------------\n",
    "    '''\n",
    "    #Populate dict with important metrics\n",
    "    metrics_dict[\"Total number of records\"] = len(df)\n",
    "    metrics_dict[\"Total number of fraud records\"] = len(df[df['Class']==1])\n",
    "    metrics_dict[\"Number of independent variables\"] = df_x.shape[1]\n",
    "\n",
    "    metrics_dict[\"Total number of records in train\"] = len(x_train)\n",
    "    metrics_dict[\"Total number of fraud records in train\"] = y_train.sum()\n",
    "    metrics_dict[\"Number of independent variables in train\"] = x_train.shape[1]\n",
    "\n",
    "    metrics_dict[\"Total number of records in cv\"] = len(x_cv)\n",
    "    metrics_dict[\"Total number of fraud records in cv\"] = y_cv.sum()\n",
    "    metrics_dict[\"Number of independent variables in cv\"] = x_cv.shape[1]\n",
    "\n",
    "    metrics_dict[\"Total number of records in test\"] = len(x_test)\n",
    "    metrics_dict[\"Total number of fraud records in test\"] = y_test.sum()\n",
    "    metrics_dict[\"Number of independent variables in test\"] = x_test.shape[1]\n",
    "    \n",
    "    return x_train, y_train, x_cv, y_cv, x_test, y_test, metrics_dict"
   ]
  },
  {
   "cell_type": "code",
   "execution_count": null,
   "metadata": {},
   "outputs": [],
   "source": []
  }
 ],
 "metadata": {
  "kernelspec": {
   "display_name": "Python 3",
   "language": "python",
   "name": "python3"
  },
  "language_info": {
   "codemirror_mode": {
    "name": "ipython",
    "version": 3
   },
   "file_extension": ".py",
   "mimetype": "text/x-python",
   "name": "python",
   "nbconvert_exporter": "python",
   "pygments_lexer": "ipython3",
   "version": "3.6.9"
  }
 },
 "nbformat": 4,
 "nbformat_minor": 2
}
